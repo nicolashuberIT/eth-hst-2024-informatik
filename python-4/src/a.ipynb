{
 "cells": [
  {
   "cell_type": "code",
   "execution_count": 2,
   "metadata": {},
   "outputs": [],
   "source": [
    "# Imports\n",
    "\n",
    "import random\n",
    "\n",
    "# Variablen\n",
    "\n",
    "m = 3 # Anzahl Spielende\n",
    "n = 5 # Anzahl Runden\n",
    "rand = True # Zufallszahlen einschalten"
   ]
  },
  {
   "cell_type": "code",
   "execution_count": 3,
   "metadata": {},
   "outputs": [
    {
     "name": "stdout",
     "output_type": "stream",
     "text": [
      "Punkte der 3 Spielenden über 5 Runden:\n",
      "[[0, 0, 0, 0, 0], [0, 0, 0, 0, 0], [0, 0, 0, 0, 0]]\n",
      "\n",
      "Totalpunkte:\n",
      "[0, 0, 0]\n",
      "\n"
     ]
    }
   ],
   "source": [
    "# Listen bereitstellen\n",
    "\n",
    "resultate = [[0 for x in range(n)] for y in range(m)]\n",
    "summen = [0 for x in range(m)] # liegt hier ein Fehler im Skript vor? man muss m verwenden, um die Ausgabe in der Aufgabenstellung zu erzielen.\n",
    "\n",
    "# Listen ausgeben\n",
    "\n",
    "print(f\"Punkte der {m} Spielenden über {n} Runden:\")\n",
    "print(resultate)\n",
    "print()\n",
    "print(\"Totalpunkte:\")\n",
    "print(summen)\n",
    "print()"
   ]
  },
  {
   "cell_type": "code",
   "execution_count": 4,
   "metadata": {},
   "outputs": [
    {
     "name": "stdout",
     "output_type": "stream",
     "text": [
      "Runde 1:\n",
      "Spieler 1\n",
      "Spieler 2\n",
      "Spieler 3\n",
      "Runde 2:\n",
      "Spieler 1\n",
      "Spieler 2\n",
      "Spieler 3\n",
      "Runde 3:\n",
      "Spieler 1\n",
      "Spieler 2\n",
      "Spieler 3\n",
      "Runde 4:\n",
      "Spieler 1\n",
      "Spieler 2\n",
      "Spieler 3\n",
      "Runde 5:\n",
      "Spieler 1\n",
      "Spieler 2\n",
      "Spieler 3\n"
     ]
    }
   ],
   "source": [
    "# Resultate einlesen\n",
    "\n",
    "for i in range(n):\n",
    "    print(f\"Runde {i + 1}:\")\n",
    "\n",
    "    for j in range(m):\n",
    "        print(f\"Spieler {j + 1}\")\n",
    "\n",
    "        wert = random.randint(0, 10) if rand else input(\"Wert: \")\n",
    "        resultate[j][i] = int(wert)\n",
    "\n",
    "        j += 1\n",
    "\n",
    "    i += 1\n",
    "\n",
    "# Summen berechnen\n",
    "\n",
    "for k, resultat in enumerate(resultate):\n",
    "    summen[k] = sum(resultat)"
   ]
  },
  {
   "cell_type": "code",
   "execution_count": 5,
   "metadata": {},
   "outputs": [
    {
     "name": "stdout",
     "output_type": "stream",
     "text": [
      "\n",
      "Punkte der 3 Spielenden über 5 Runden:\n",
      "[[1, 9, 7, 0, 7], [3, 7, 6, 1, 3], [0, 7, 6, 1, 4]]\n",
      "\n",
      "Totalpunkte:\n",
      "[24, 20, 18]\n"
     ]
    }
   ],
   "source": [
    "# Resultat ausgeben\n",
    "\n",
    "print()\n",
    "print(f\"Punkte der {m} Spielenden über {n} Runden:\")\n",
    "print(resultate)\n",
    "print()\n",
    "print(\"Totalpunkte:\")\n",
    "print(summen)"
   ]
  },
  {
   "cell_type": "code",
   "execution_count": null,
   "metadata": {},
   "outputs": [],
   "source": []
  }
 ],
 "metadata": {
  "kernelspec": {
   "display_name": "Python 3",
   "language": "python",
   "name": "python3"
  },
  "language_info": {
   "codemirror_mode": {
    "name": "ipython",
    "version": 3
   },
   "file_extension": ".py",
   "mimetype": "text/x-python",
   "name": "python",
   "nbconvert_exporter": "python",
   "pygments_lexer": "ipython3",
   "version": "3.12.0"
  }
 },
 "nbformat": 4,
 "nbformat_minor": 2
}
